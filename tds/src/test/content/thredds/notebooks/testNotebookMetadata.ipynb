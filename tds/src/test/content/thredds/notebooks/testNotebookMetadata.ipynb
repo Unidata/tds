{
  "metadata": {
    "viewer_info": {
      "description": "Test notebook viewer accepts",
      "accepts": {
        "accept_datasetIDs": ["testGAP", "testEnhanced/.*", "gribCollection/GFS_CONUS_80km/.*"]
      }
    }
  }
}
